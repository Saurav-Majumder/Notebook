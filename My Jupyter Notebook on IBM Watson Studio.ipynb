{
    "cells": [
        {
            "cell_type": "markdown",
            "metadata": {
                "collapsed": true
            },
            "source": "<h1>My Jupyter Notebook on IBM Watson Studio</h1>"
        },
        {
            "cell_type": "markdown",
            "metadata": {},
            "source": "<b>Saurav Majumder</b>\nStudent"
        },
        {
            "cell_type": "markdown",
            "metadata": {},
            "source": "<i>I am interested in data science because it is creative aspect of visulaizing data,analyzing data and plotting data to make data more efficient.The machine learning and deep learning models prediction through various algorithms is quite amazing.I want to learn data science and provide its knowledge to everyone who are not aware how our data works globally.</i>"
        },
        {
            "cell_type": "markdown",
            "metadata": {},
            "source": " <h3>My Code at Cell 5 will multiply two integers</h3>"
        },
        {
            "cell_type": "code",
            "execution_count": 1,
            "metadata": {},
            "outputs": [
                {
                    "name": "stdout",
                    "output_type": "stream",
                    "text": "30\n"
                }
            ],
            "source": "x=5\ny=6\nc=x*y\nprint(c)"
        },
        {
            "cell_type": "markdown",
            "metadata": {},
            "source": "<a href=\"https://www.google.com/\">Click here</a> to visit google home page\n<ol type=1>\n    <li>The homepage will provide you any information</li>\n    <li>Google is quiet helpful</li>\n</ol>\n<ul type=bullet>\n    <li>Wikipedia</li>\n    <li>Other references</li>\n</ul>"
        }
    ],
    "metadata": {
        "kernelspec": {
            "display_name": "Python 3.6",
            "language": "python",
            "name": "python3"
        },
        "language_info": {
            "codemirror_mode": {
                "name": "ipython",
                "version": 3
            },
            "file_extension": ".py",
            "mimetype": "text/x-python",
            "name": "python",
            "nbconvert_exporter": "python",
            "pygments_lexer": "ipython3",
            "version": "3.6.9"
        }
    },
    "nbformat": 4,
    "nbformat_minor": 1
}